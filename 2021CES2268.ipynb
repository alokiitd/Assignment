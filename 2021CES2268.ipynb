{
 "cells": [
  {
   "cell_type": "markdown",
   "metadata": {},
   "source": [
    "<h1>Assignment 1"
   ]
  },
  {
   "cell_type": "markdown",
   "metadata": {},
   "source": [
    "<h3>Q1: Reversing a list"
   ]
  },
  {
   "cell_type": "code",
   "execution_count": 3,
   "metadata": {},
   "outputs": [],
   "source": [
    "#following are sample input and corresponding outputs\n",
    "Input  = [12, 35, 9, 56, 24]\n",
    "Output = [24, 35, 9, 56, 12]\n",
    "\n",
    "Input  = [1, 2, 3]\n",
    "Output = [3, 2, 1]"
   ]
  },
  {
   "cell_type": "code",
   "execution_count": null,
   "metadata": {},
   "outputs": [],
   "source": [
    "#write your solution here to reverse a list\n",
    "a = []\n",
    "length = int(input(\"Enter the total count of elements : \"))\n",
    "\n",
    "for i in range(0,length):\n",
    "        a.append(int(input(\"Type element and press enter:\")))\n",
    "\n",
    "print(\"\\n\\n input:  \",a)\n",
    "a.reverse()\n",
    "print(\"\\n\\n output: \",a)"
   ]
  },
  {
   "cell_type": "markdown",
   "metadata": {},
   "source": [
    "<h3>Q2: Swapping elements in lists"
   ]
  },
  {
   "cell_type": "code",
   "execution_count": null,
   "metadata": {},
   "outputs": [],
   "source": [
    "Input  = [12, 35, 9, 56, 24]\n",
    "Output = [12, 9, 35, 56, 24]"
   ]
  },
  {
   "cell_type": "code",
   "execution_count": null,
   "metadata": {},
   "outputs": [],
   "source": [
    "#write your solution here\n",
    "a = []\n",
    "pos1 = 0\n",
    "pos2 = 0\n",
    "length = int(input(\"Enter the total count of elements : \"))\n",
    "\n",
    "for i in range(0,length):\n",
    "        a.append(int(input(\"Type element and press enter:\")))\n",
    "\n",
    "pos1 = int(input(\"enter the positions to be swapped : \"))\n",
    "pos2 = int(input()) \n",
    "\n",
    "while pos1>length or pos2>length or pos1<=0 or pos2<=0:\n",
    "    print(\"wrong positions\")\n",
    "    pos1 = int(input(\"Positions to be swapped must be less than total count of elements enter again : \"))\n",
    "    pos2 = int(input())\n",
    "    \n",
    "\n",
    "print(\"Input :  \",a)\n",
    "swap = a[pos1-1]\n",
    "a[pos1-1] = a[pos2-1]\n",
    "a[pos2-1]= swap\n",
    "print(\"Output : \",a)"
   ]
  },
  {
   "cell_type": "markdown",
   "metadata": {},
   "source": [
    "<h3>Q3: Reversing a string"
   ]
  },
  {
   "cell_type": "code",
   "execution_count": null,
   "metadata": {},
   "outputs": [],
   "source": [
    "input_str  = 'This is CVL757'\n",
    "output_str = '757LVC si sihT'"
   ]
  },
  {
   "cell_type": "code",
   "execution_count": 3,
   "metadata": {},
   "outputs": [
    {
     "name": "stdout",
     "output_type": "stream",
     "text": [
      "Please enter your own String : 'This is CVL757'\n",
      "\n",
      "input_str  = 'This is CVL757'\n",
      "output_str = '757LVC si sihT'\n"
     ]
    }
   ],
   "source": [
    "string = input(\"Please enter your own String : \")\n",
    "\n",
    "string2 = ''\n",
    "\n",
    "for i in string:\n",
    "    string2 = i + string2\n",
    "    \n",
    "print(\"\\ninput_str  =\", string)\n",
    "print(\"output_str =\", string2)\n"
   ]
  },
  {
   "cell_type": "markdown",
   "metadata": {},
   "source": [
    "<h3>Q4: Reversing the order of words in a string"
   ]
  },
  {
   "cell_type": "code",
   "execution_count": 15,
   "metadata": {},
   "outputs": [],
   "source": [
    "input_str  = 'This is CVL757'\n",
    "output_str = 'CVL757 is This'"
   ]
  },
  {
   "cell_type": "code",
   "execution_count": 1,
   "metadata": {},
   "outputs": [
    {
     "name": "stdout",
     "output_type": "stream",
     "text": [
      "Please enter your own String :\n",
      "This is CVL757\n",
      "input_str  =  This is CVL757\n",
      "output_str =  CVL757 is This\n"
     ]
    }
   ],
   "source": [
    "string = input(\"Please enter your own String :\\n\")\n",
    "words = string.split()\n",
    "words = list(reversed(words))\n",
    "print(\"input_str  = \",string)\n",
    "pr=(\" \".join(words)) \n",
    "print(\"output_str = \",pr)\n",
    "\n"
   ]
  },
  {
   "cell_type": "markdown",
   "metadata": {},
   "source": [
    "<h3>Q5: Initialise a 3x3 matrix with random values, use numpy"
   ]
  },
  {
   "cell_type": "code",
   "execution_count": 1,
   "metadata": {},
   "outputs": [
    {
     "name": "stdout",
     "output_type": "stream",
     "text": [
      "\n",
      "A random array:\n",
      " [[0.37161267 0.76220227 0.59706327]\n",
      " [0.18609943 0.53232284 0.52572418]\n",
      " [0.31197588 0.43461206 0.66945788]]\n"
     ]
    }
   ],
   "source": [
    "import numpy as np\n",
    "random_matrix = np.random.random((3, 3))\n",
    "print (\"\\nA random array:\\n\", random_matrix)"
   ]
  },
  {
   "cell_type": "code",
   "execution_count": null,
   "metadata": {},
   "outputs": [],
   "source": []
  },
  {
   "cell_type": "markdown",
   "metadata": {},
   "source": [
    "<h3>Q6: Swap the columns of random_matrix"
   ]
  },
  {
   "cell_type": "code",
   "execution_count": 6,
   "metadata": {},
   "outputs": [],
   "source": [
    "inp = np.array([[0.13806091, 0.82474243, 0.15646752],\n",
    "                [0.50029824, 0.45875794, 0.53401557],\n",
    "                [0.95397773, 0.79407795, 0.07442586]])\n",
    "\n",
    "out = np.array([[0.15646752, 0.82474243, 0.13806091],\n",
    "                [0.53401557, 0.45875794, 0.50029824],\n",
    "                [0.07442586, 0.79407795, 0.95397773]])\n",
    "\n"
   ]
  },
  {
   "cell_type": "code",
   "execution_count": 15,
   "metadata": {},
   "outputs": [
    {
     "name": "stdout",
     "output_type": "stream",
     "text": [
      "\n",
      "inp = np.array:\n",
      " [[0.9314001  0.66135018 0.29994615]\n",
      " [0.32079296 0.66239354 0.06992654]\n",
      " [0.62041812 0.83814848 0.02822288]]\n",
      "\n",
      "out = np.array:\n",
      " [[0.29994615 0.66135018 0.9314001 ]\n",
      " [0.06992654 0.66239354 0.32079296]\n",
      " [0.02822288 0.83814848 0.62041812]]\n"
     ]
    }
   ],
   "source": [
    "#write your solution here to swap 1st and last column\n",
    "import numpy as np\n",
    "\n",
    "def swap_cols(arr, frm, to):\n",
    "    arr[:,[frm, to]] = arr[:,[to, frm]]\n",
    "    \n",
    "    \n",
    "arr1 = np.random.random((3, 3))\n",
    "print (\"\\ninp = np.array:\\n\", arr1)\n",
    "\n",
    "swap_cols(arr1,0,2)\n",
    "print (\"\\nout = np.array:\\n\", arr1)"
   ]
  },
  {
   "cell_type": "markdown",
   "metadata": {},
   "source": [
    "<h3>Q7: Swap the rows of random_matrix"
   ]
  },
  {
   "cell_type": "code",
   "execution_count": 8,
   "metadata": {},
   "outputs": [],
   "source": [
    "inp = np.array([[0.13806091, 0.82474243, 0.15646752],\n",
    "               [0.50029824, 0.45875794, 0.53401557],\n",
    "               [0.95397773, 0.79407795, 0.07442586]])\n",
    "\n",
    "out = np.array([[0.95397773, 0.79407795, 0.07442586],\n",
    "               [0.50029824, 0.45875794, 0.53401557],\n",
    "               [0.13806091, 0.82474243, 0.15646752]])"
   ]
  },
  {
   "cell_type": "code",
   "execution_count": 16,
   "metadata": {},
   "outputs": [
    {
     "name": "stdout",
     "output_type": "stream",
     "text": [
      "\n",
      "inp = np.array:\n",
      " [[0.91968888 0.83557155 0.5294428 ]\n",
      " [0.66292449 0.90842227 0.46659069]\n",
      " [0.31849435 0.21318123 0.56910106]]\n",
      "\n",
      "out = np.array:\n",
      " [[0.31849435 0.21318123 0.56910106]\n",
      " [0.66292449 0.90842227 0.46659069]\n",
      " [0.91968888 0.83557155 0.5294428 ]]\n"
     ]
    }
   ],
   "source": [
    "#write your solution here to swap 1st and 3rd rows\n",
    "import numpy as np\n",
    "\n",
    "def swap_rows(arr, frm, to):\n",
    "    arr[[frm, to],:] = arr[[to, frm],:]\n",
    "    \n",
    "    \n",
    "arr1 = np.random.random((3, 3))\n",
    "print (\"\\ninp = np.array:\\n\", arr1)\n",
    "\n",
    "swap_rows(arr1,0,2)\n",
    "print (\"\\nout = np.array:\\n\", arr1)"
   ]
  },
  {
   "cell_type": "markdown",
   "metadata": {},
   "source": [
    "<h3>Q8: Plot the sine and cosine curves as shown below"
   ]
  },
  {
   "cell_type": "code",
   "execution_count": 76,
   "metadata": {},
   "outputs": [],
   "source": []
  },
  {
   "cell_type": "code",
   "execution_count": 20,
   "metadata": {},
   "outputs": [
    {
     "data": {
      "text/plain": [
       "<matplotlib.legend.Legend at 0x195afce5610>"
      ]
     },
     "execution_count": 20,
     "metadata": {},
     "output_type": "execute_result"
    },
    {
     "data": {
      "image/png": "[encoded data removed]",
      "text/plain": [
       "<Figure size 432x288 with 1 Axes>"
      ]
     },
     "metadata": {
      "needs_background": "light"
     },
     "output_type": "display_data"
    }
   ],
   "source": [
    "#write code here to plot and show the legend also\n",
    "import numpy as np\n",
    "import matplotlib.pyplot as plt\n",
    "\n",
    "x = np.arange(0,2*np.pi,0.01)\n",
    "y = np.cos(x)\n",
    "y2 = np.sin(x)\n",
    "\n",
    "fig = plt.figure()\n",
    "\n",
    "axes= fig.add_axes([0,0,1,1])\n",
    "\n",
    "axes.plot(x,y, label='cosΘ')\n",
    "\n",
    "axes.plot(x, y2, label='sinΘ')\n",
    "\n",
    "axes.legend()"
   ]
  },
  {
   "cell_type": "markdown",
   "metadata": {},
   "source": [
    "<h3>Q9: Plot the following truss</h3>\n",
    "Length of element 2, 6 and 9 (between nodes 1 and 3, 3 and 5, and 5 and 9) is 5.<br>\n",
    "Length of element 3 and 7 is 7m.\n",
    " "
   ]
  },
  {
   "cell_type": "markdown",
   "metadata": {},
   "source": [
    "<img src='q9.svg' alt=\"Truss Q9\" width=\"500\" height=\"600\">"
   ]
  },
  {
   "cell_type": "code",
   "execution_count": 1,
   "metadata": {},
   "outputs": [
    {
     "data": {
      "image/png": "[encoded data removed]",
      "text/plain": [
       "<Figure size 432x288 with 1 Axes>"
      ]
     },
     "metadata": {
      "needs_background": "light"
     },
     "output_type": "display_data"
    }
   ],
   "source": [
    "import matplotlib.pyplot as plt\n",
    " \n",
    "# x axis values\n",
    "x = [5,0,5,10,15,10,5,5,10,10]\n",
    "# corresponding y axis values\n",
    "y = [0,0,7,7,0,0,0,7,0,7]\n",
    " \n",
    "# plotting the points\n",
    "plt.plot(x, y)\n",
    " \n",
    "# naming the x axis\n",
    "plt.xlabel('x - axis')\n",
    "# naming the y axis\n",
    "plt.ylabel('y - axis')\n",
    " \n",
    "# giving a title to my graph\n",
    "plt.title('Truss')\n",
    " \n",
    "# function to show the plot\n",
    "plt.show()"
   ]
  },
  {
   "cell_type": "markdown",
   "metadata": {},
   "source": [
    "**Q10: Consider the plane truss shown above. Given E = 200GPa and A = 0.005m2,\n",
    "determine and horizontal load of 20kN at node 2. Both node 1 and node 6 have pin supports:**\n",
    "\n",
    "1. the global stiffness matrix for the structure.\n",
    "2. the horizontal and vertical displacements at nodes 2, 3, 4, and 5.\n",
    "3. the horizontal and vertical reactions at nodes 1 and 6.\n",
    "4. the stress in each element."
   ]
  },
  {
   "cell_type": "code",
   "execution_count": 2,
   "metadata": {},
   "outputs": [
    {
     "name": "stdout",
     "output_type": "stream",
     "text": [
      "\n",
      "Global Stiffness Matrix of the Truss\n",
      "\n",
      "[[ 239272.851   54981.991  -39272.851  -54981.991 -200000.          0.\n",
      "        0.          0.          0.          0.          0.          0.   ]\n",
      " [  54981.991   76974.788  -54981.991  -76974.788       0.          0.\n",
      "        0.          0.          0.          0.          0.          0.   ]\n",
      " [ -39272.851  -54981.991  278545.702       0.          0.          0.\n",
      "  -200000.          0.     -39272.851   54981.991       0.          0.   ]\n",
      " [ -54981.991  -76974.788       0.     296806.718       0.    -142857.143\n",
      "        0.          0.      54981.991  -76974.788       0.          0.   ]\n",
      " [-200000.          0.          0.          0.     400000.          0.\n",
      "        0.          0.    -200000.          0.          0.          0.   ]\n",
      " [      0.          0.          0.    -142857.143       0.     142857.143\n",
      "        0.          0.          0.          0.          0.          0.   ]\n",
      " [      0.          0.    -200000.          0.          0.          0.\n",
      "   239272.851  -54981.991       0.          0.     -39272.851   54981.991]\n",
      " [      0.          0.          0.          0.          0.          0.\n",
      "   -54981.991  219831.931       0.    -142857.143   54981.991  -76974.788]\n",
      " [      0.          0.     -39272.851   54981.991 -200000.          0.\n",
      "        0.          0.     439272.851  -54981.991 -200000.          0.   ]\n",
      " [      0.          0.      54981.991  -76974.788       0.          0.\n",
      "        0.    -142857.143  -54981.991  219831.931       0.          0.   ]\n",
      " [      0.          0.          0.          0.          0.          0.\n",
      "   -39272.851   54981.991 -200000.          0.     239272.851  -54981.991]\n",
      " [      0.          0.          0.          0.          0.          0.\n",
      "    54981.991  -76974.788       0.          0.     -54981.991   76974.788]]\n",
      "\n",
      "\n",
      "________________Support Specifications______________\n",
      "\n",
      "\n",
      "_________________Loading____________________\n",
      "\n",
      "\n",
      "\n",
      "Displacement matrix of nodes\n",
      "\n",
      "[[ 0.   ]\n",
      " [ 0.   ]\n",
      " [ 0.219]\n",
      " [-0.035]\n",
      " [ 0.011]\n",
      " [-0.035]\n",
      " [ 0.185]\n",
      " [ 0.011]\n",
      " [ 0.022]\n",
      " [-0.054]\n",
      " [ 0.   ]\n",
      " [ 0.   ]]\n",
      "\n",
      "\n",
      "Force matrix of nodes\n",
      "\n",
      "[[ -8888.889]\n",
      " [ -9333.333]\n",
      " [ 20000.   ]\n",
      " [     0.   ]\n",
      " [    -0.   ]\n",
      " [     0.   ]\n",
      " [    -0.   ]\n",
      " [     0.   ]\n",
      " [    -0.   ]\n",
      " [     0.   ]\n",
      " [-11111.111]\n",
      " [  9333.333]]\n",
      "\n",
      "***Positive is Tensile\n",
      "Negetive is Compressive***\n",
      "\n",
      "\n",
      "\n",
      "Strain in the elements\n",
      "[[ 1.147e-05]\n",
      " [ 2.222e-06]\n",
      " [ 4.400e-10]\n",
      " [-6.667e-06]\n",
      " [-1.147e-05]\n",
      " [ 2.222e-06]\n",
      " [ 9.334e-06]\n",
      " [-1.147e-05]\n",
      " [-4.444e-06]]\n",
      "\n",
      "\n",
      "Stress in the elements\n",
      "[[ 2.294]\n",
      " [ 0.444]\n",
      " [ 0.   ]\n",
      " [-1.333]\n",
      " [-2.294]\n",
      " [ 0.444]\n",
      " [ 1.867]\n",
      " [-2.294]\n",
      " [-0.889]]\n",
      "\n",
      "\n",
      "Force in the element\n",
      "[[ 11470.033]\n",
      " [  2222.247]\n",
      " [     0.44 ]\n",
      " [ -6666.624]\n",
      " [-11469.569]\n",
      " [  2222.23 ]\n",
      " [  9333.605]\n",
      " [-11469.6  ]\n",
      " [ -4444.386]]\n"
     ]
    }
   ],
   "source": [
    "import math\n",
    "import numpy\n",
    "\n",
    "numpy.set_printoptions(3, suppress=True)\n",
    "\n",
    "tn = 6 #total nodes\n",
    "te = 9 #total elements\n",
    "xco = [0, 5000, 5000, 10000, 10000, 15000] #x co ordinate of nodes\n",
    "yco = [0, 7000, 0, 7000, 0, 0] #y co ordinate of nodes\n",
    "A = 5000\n",
    "E = 200000\n",
    "snofel = [1,1,2,2,2,3,4,4,5]\n",
    "enofel = [2,3,3,4,5,5,5,6,6]\n",
    "lenofel = []\n",
    "elcon = [] \n",
    "cosofel = []\n",
    "sinofel = []\n",
    "\n",
    "\n",
    "for i in range(te): \n",
    "    a = snofel[i]-1\n",
    "    b = enofel[i]-1\n",
    "    x1 = float(xco[a])\n",
    "    y1 = float(yco[a])\n",
    "    x2 = float(xco[b])\n",
    "    y2 = float(yco[b])\n",
    "    l = math.sqrt((x2-x1)**2+(y2-y1)**2)\n",
    "    con = A*E/l\n",
    "    cos = (x2-x1)/l\n",
    "    sin = (y2-y1)/l\n",
    "    lenofel.append(l)\n",
    "    elcon.append(con)\n",
    "    cosofel.append(cos)\n",
    "    sinofel.append(sin)\n",
    "    \n",
    "elstmat = []\n",
    "\n",
    "for i in range(te):\n",
    "    cc = float(cosofel[i])**2\n",
    "    ss = float(sinofel[i])**2\n",
    "    cs = float(cosofel[i])*float(sinofel[i])\n",
    "    \n",
    "    mat = elcon[i]*numpy.array([[cc, cs, -cc, -cs],\n",
    "                      [cs, ss, -cs, -ss],\n",
    "                      [-cc, -cs, cc, cs],\n",
    "                      [-cs, -ss, cs, ss]])\n",
    "    elstmat.append(mat)\n",
    "gstmatmap = []                          \n",
    "for i in range(te):                     \n",
    "    m = snofel[i]*2                     \n",
    "    n = enofel[i]*2                     \n",
    "    add = [m-1, m, n-1, n]              \n",
    "    gmat = numpy.zeros((tn*2, tn*2))    \n",
    "    elmat = elstmat[i]                  \n",
    "    for j in range(4):                  \n",
    "        for k in range(4):              \n",
    "            a = add[j]-1                \n",
    "            b = add[k]-1                \n",
    "            gmat[a,b] = elmat[j,k]      \n",
    "    gstmatmap.append(gmat)              \n",
    "\n",
    "GSM = numpy.zeros((tn*2, tn*2))         \n",
    "for mat in gstmatmap:\n",
    "    GSM = GSM+mat                       \n",
    "                                        \n",
    "\n",
    "print('\\nGlobal Stiffness Matrix of the Truss\\n')\n",
    "print(numpy.around(GSM, 3))\n",
    "\n",
    "#-----------------------Boundry condition and Loading---------------------#\n",
    "\n",
    "displist = []\n",
    "forcelist = []\n",
    "for i in range(tn):\n",
    "    a = str('u')+str(i+1)\n",
    "    displist.append(a)\n",
    "    b = str('v')+str(i+1)\n",
    "    displist.append(b)\n",
    "    c = str('fx')+str(i+1)\n",
    "    forcelist.append(c)\n",
    "    d = str('fy')+str(i+1)\n",
    "    forcelist.append(d)\n",
    "\n",
    "    \n",
    "print('\\n\\n________________Support Specifications______________\\n')\n",
    "\n",
    "dispmat = numpy.ones((tn*2,1))\n",
    "dispmat[1*2-2, 0] = 0\n",
    "dispmat[1*2-1, 0] = 0\n",
    "dispmat[6*2-2, 0] = 0\n",
    "dispmat[6*2-1, 0] = 0\n",
    "\n",
    "    \n",
    "\n",
    "print('\\n_________________Loading____________________\\n')\n",
    "forcemat = numpy.zeros((tn*2,1))\n",
    "forcemat[2*2-2, 0] = 20000\n",
    "forcemat[2*2-1, 0] = 0\n",
    "\n",
    "\n",
    "\n",
    "\n",
    "rcdlist = []\n",
    "for i in range(tn*2):\n",
    "    if dispmat[i,0] == 0:\n",
    "        rcdlist.append(i)\n",
    "\n",
    "rrgsm = numpy.delete(GSM, rcdlist, 0)\n",
    "crgsm = numpy.delete(rrgsm, rcdlist, 1)\n",
    "rgsm = crgsm\n",
    "rforcemat = numpy.delete(forcemat, rcdlist, 0)\n",
    "rdispmat = numpy.delete(dispmat, rcdlist, 0) \n",
    "\n",
    "###_______________Solving____________________###\n",
    "\n",
    "dispresult = numpy.matmul(numpy.linalg.inv(rgsm), rforcemat)\n",
    "rin = 0\n",
    "for i in range(tn*2):\n",
    "    if dispmat[i,0] == 1:\n",
    "        dispmat[i,0] = dispresult[rin,0]\n",
    "        rin = rin+1\n",
    "forceresult = numpy.matmul(GSM, dispmat)\n",
    "print('\\n\\nDisplacement matrix of nodes\\n')\n",
    "print(dispmat)\n",
    "print('\\n\\nForce matrix of nodes\\n')\n",
    "print(forceresult)\n",
    "##____________________new co ordinates of nodes____________####\n",
    "\n",
    "newxco = []\n",
    "newyco = []\n",
    "count = 0\n",
    "for i in range(tn):\n",
    "    k = xco[i]+dispmat[count,0]\n",
    "    newxco.append(k)\n",
    "    count = count+1\n",
    "    l = yco[i]+dispmat[count,0]\n",
    "    newyco.append(l)\n",
    "    count = count+1\n",
    "\n",
    "###____________________new length of memebers______________####\n",
    "    \n",
    "newlenofel = []\n",
    "for i in range(te):\n",
    "    a, b = snofel[i], enofel[i]\n",
    "    x1 = float(newxco[a-1])\n",
    "    y1 = float(newyco[a-1])\n",
    "    x2 = float(newxco[b-1])\n",
    "    y2 = float(newyco[b-1])\n",
    "    l = math.sqrt((x2-x1)**2+(y2-y1)**2)\n",
    "    newlenofel.append(l)\n",
    "\n",
    "###______________strain in elements_______________________###\n",
    "    \n",
    "numpy.set_printoptions(3, suppress=False)\n",
    "\n",
    "elstrain = numpy.zeros((te,1))\n",
    "for i in range(te):\n",
    "    elstrain[i,0] = (newlenofel[i]-lenofel[i])/(lenofel[i])\n",
    "print('\\n***Positive is Tensile\\nNegetive is Compressive***\\n')\n",
    "\n",
    "print('\\n\\nStrain in the elements')\n",
    "print(elstrain)\n",
    "numpy.set_printoptions(3, suppress=True)\n",
    "\n",
    "###__________________stress in elements______________________###\n",
    "\n",
    "elstress = numpy.zeros((te,1))\n",
    "for i in range(te):\n",
    "    elstress[i,0] = E * elstrain[i,0]\n",
    "    \n",
    "print('\\n\\nStress in the elements')\n",
    "print(elstress)\n",
    "\n",
    "###_________________Member forces____________________#########\n",
    "\n",
    "eforce = numpy.zeros((te,1))\n",
    "for i in range(te):\n",
    "    eforce[i,0] = A * elstress[i,0]\n",
    "\n",
    "print('\\n\\nForce in the element')\n",
    "print(eforce)"
   ]
  },
  {
   "cell_type": "markdown",
   "metadata": {},
   "source": [
    "<H1>BONUS QUESTION</H1>\n",
    "Plot the defomred shape of truss obtained in Q10"
   ]
  },
  {
   "cell_type": "code",
   "execution_count": null,
   "metadata": {},
   "outputs": [],
   "source": [
    "#write solution here"
   ]
  }
 ],
 "metadata": {
  "kernelspec": {
   "display_name": "Python 3",
   "language": "python",
   "name": "python3"
  },
  "language_info": {
   "codemirror_mode": {
    "name": "ipython",
    "version": 3
   },
   "file_extension": ".py",
   "mimetype": "text/x-python",
   "name": "python",
   "nbconvert_exporter": "python",
   "pygments_lexer": "ipython3",
   "version": "3.8.8"
  }
 },
 "nbformat": 4,
 "nbformat_minor": 4
}
